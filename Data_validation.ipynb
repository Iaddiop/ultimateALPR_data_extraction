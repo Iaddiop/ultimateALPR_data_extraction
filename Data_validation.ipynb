{
 "cells": [
  {
   "cell_type": "code",
   "execution_count": 1,
   "metadata": {
    "editable": true
   },
   "outputs": [],
   "source": [
    "# Import librairies\n",
    "import configparser\n",
    "from datetime import datetime\n",
    "import os\n",
    "from pyspark.sql import SparkSession\n",
    "from pyspark.sql.functions import udf, col\n",
    "from pyspark.sql.functions import year, month, dayofmonth, hour, weekofyear, date_format\n",
    "from pyspark.sql import functions as F\n",
    "\n",
    "#os.environ['PYSPARK_SUBMIT_ARGS'] = \"--packages=org.apache.hadoop:hadoop-aws:2.7.3 pyspark-shell\""
   ]
  },
  {
   "cell_type": "code",
   "execution_count": 2,
   "metadata": {
    "editable": true
   },
   "outputs": [],
   "source": [
    "config = configparser.ConfigParser()\n",
    "#config.read('dl.cfg')\n",
    "config.read_file(open('dl.cfg'))\n",
    "\n",
    "os.environ[\"AWS_ACCESS_KEY_ID\"]= config['AWS']['AWS_ACCESS_KEY_ID']\n",
    "os.environ[\"AWS_SECRET_ACCESS_KEY\"]= config['AWS']['AWS_SECRET_ACCESS_KEY']"
   ]
  },
  {
   "cell_type": "code",
   "execution_count": 3,
   "metadata": {
    "editable": true
   },
   "outputs": [],
   "source": [
    "# Create spark session\n",
    "def create_spark_session():\n",
    "    spark = SparkSession \\\n",
    "        .builder \\\n",
    "        .config(\"spark.jars.packages\", \"org.apache.hadoop:hadoop-aws:2.7.0\") \\\n",
    "        .config(\"spark.hadoop.fs.s3a.impl\",\"org.apache.hadoop.fs.s3a.S3AFileSystem\") \\\n",
    "        .getOrCreate()\n",
    "        \n",
    "        \n",
    "    spark.sparkContext._jsc.hadoopConfiguration().set(\"mapreduce.fileoutputcommitter.algorithm.version\", \"2\")\n",
    "    #spark.sparkContext._jsc.hadoopConfiguration().set(\"fs.s3a.endpoint\", \"s3.eu-west-3.amazonaws.com\")\n",
    "    return spark\n",
    "spark = create_spark_session()"
   ]
  },
  {
   "cell_type": "code",
   "execution_count": 5,
   "metadata": {
    "editable": true
   },
   "outputs": [],
   "source": [
    "# 1- Get bodyStyle data\n",
    "bodyStyle =spark.read.parquet(\"s3a://lakestorage/bodyStyle/\")"
   ]
  },
  {
   "cell_type": "code",
   "execution_count": 10,
   "metadata": {
    "editable": true
   },
   "outputs": [
    {
     "name": "stdout",
     "output_type": "stream",
     "text": [
      "+--------+\n",
      "|count(1)|\n",
      "+--------+\n",
      "|  266440|\n",
      "+--------+\n",
      "\n"
     ]
    }
   ],
   "source": [
    "bodyStyle.createOrReplaceTempView(\"bodyStyle_temp\")\n",
    "spark.sql(\"\"\"\n",
    "select count(*)\n",
    "from bodyStyle_temp \n",
    "\"\"\").show()"
   ]
  },
  {
   "cell_type": "code",
   "execution_count": 12,
   "metadata": {
    "editable": true
   },
   "outputs": [
    {
     "name": "stdout",
     "output_type": "stream",
     "text": [
      "+--------+\n",
      "|count(1)|\n",
      "+--------+\n",
      "|  266440|\n",
      "+--------+\n",
      "\n"
     ]
    }
   ],
   "source": [
    "# 2- Get car data\n",
    "car =spark.read.parquet(\"s3a://lakestorage/car/\")\n",
    "car.createOrReplaceTempView(\"car_temp\")\n",
    "spark.sql(\"\"\"\n",
    "select count(*)\n",
    "from car_temp \n",
    "\"\"\").show()"
   ]
  },
  {
   "cell_type": "code",
   "execution_count": 13,
   "metadata": {
    "editable": true
   },
   "outputs": [
    {
     "name": "stdout",
     "output_type": "stream",
     "text": [
      "+--------+\n",
      "|count(1)|\n",
      "+--------+\n",
      "|  266440|\n",
      "+--------+\n",
      "\n"
     ]
    }
   ],
   "source": [
    "# 3- Get carWarpedBox data\n",
    "carWarpedBox =spark.read.parquet(\"s3a://lakestorage/carWarpedBox/\")\n",
    "carWarpedBox.createOrReplaceTempView(\"carWarpedBox_temp\")\n",
    "spark.sql(\"\"\"\n",
    "select count(*)\n",
    "from carWarpedBox_temp \n",
    "\"\"\").show()"
   ]
  },
  {
   "cell_type": "code",
   "execution_count": 14,
   "metadata": {
    "editable": true
   },
   "outputs": [
    {
     "name": "stdout",
     "output_type": "stream",
     "text": [
      "+--------+\n",
      "|count(1)|\n",
      "+--------+\n",
      "|  266440|\n",
      "+--------+\n",
      "\n"
     ]
    }
   ],
   "source": [
    "# 4- Get color data\n",
    "color =spark.read.parquet(\"s3a://lakestorage/color/\")\n",
    "color.createOrReplaceTempView(\"color_temp\")\n",
    "spark.sql(\"\"\"\n",
    "select count(*)\n",
    "from color_temp \n",
    "\"\"\").show()"
   ]
  },
  {
   "cell_type": "code",
   "execution_count": 15,
   "metadata": {
    "editable": true
   },
   "outputs": [
    {
     "name": "stdout",
     "output_type": "stream",
     "text": [
      "+--------+\n",
      "|count(1)|\n",
      "+--------+\n",
      "|  266440|\n",
      "+--------+\n",
      "\n"
     ]
    }
   ],
   "source": [
    "# 5- Get country data\n",
    "country =spark.read.parquet(\"s3a://lakestorage/country/\")\n",
    "country.createOrReplaceTempView(\"country_temp\")\n",
    "spark.sql(\"\"\"\n",
    "select count(*)\n",
    "from country_temp \n",
    "\"\"\").show()"
   ]
  },
  {
   "cell_type": "code",
   "execution_count": 16,
   "metadata": {
    "editable": true
   },
   "outputs": [
    {
     "name": "stdout",
     "output_type": "stream",
     "text": [
      "+--------+\n",
      "|count(1)|\n",
      "+--------+\n",
      "|  266440|\n",
      "+--------+\n",
      "\n"
     ]
    }
   ],
   "source": [
    "# 6- Get makeModelYear data\n",
    "makeModelYear =spark.read.parquet(\"s3a://lakestorage/makeModelYear/\")\n",
    "makeModelYear.createOrReplaceTempView(\"makeModelYear_temp\")\n",
    "spark.sql(\"\"\"\n",
    "select count(*)\n",
    "from makeModelYear_temp \n",
    "\"\"\").show()"
   ]
  },
  {
   "cell_type": "code",
   "execution_count": 17,
   "metadata": {
    "editable": true
   },
   "outputs": [
    {
     "name": "stdout",
     "output_type": "stream",
     "text": [
      "+--------+\n",
      "|count(1)|\n",
      "+--------+\n",
      "|  245155|\n",
      "+--------+\n",
      "\n"
     ]
    }
   ],
   "source": [
    "# 7- Get plate data\n",
    "plate_ =spark.read.parquet(\"s3a://lakestorage/plate/\")\n",
    "plate_.createOrReplaceTempView(\"plate_temp\")\n",
    "spark.sql(\"\"\"\n",
    "select count(*)\n",
    "from plate_temp \n",
    "\"\"\").show()"
   ]
  },
  {
   "cell_type": "code",
   "execution_count": 18,
   "metadata": {
    "editable": true
   },
   "outputs": [
    {
     "name": "stdout",
     "output_type": "stream",
     "text": [
      "+--------+\n",
      "|count(1)|\n",
      "+--------+\n",
      "|  266440|\n",
      "+--------+\n",
      "\n"
     ]
    }
   ],
   "source": [
    "# 8- Get plateWarpedBox data\n",
    "plateWarpedBox =spark.read.parquet(\"s3a://lakestorage/plateWarpedBox/\")\n",
    "plateWarpedBox.createOrReplaceTempView(\"plateWarpedBox_temp\")\n",
    "spark.sql(\"\"\"\n",
    "select count(*)\n",
    "from plateWarpedBox_temp \n",
    "\"\"\").show()"
   ]
  },
  {
   "cell_type": "code",
   "execution_count": null,
   "metadata": {
    "editable": true
   },
   "outputs": [],
   "source": []
  }
 ],
 "metadata": {
  "kernelspec": {
   "display_name": "Python 3",
   "language": "python",
   "name": "python3"
  },
  "language_info": {
   "codemirror_mode": {
    "name": "ipython",
    "version": 3
   },
   "file_extension": ".py",
   "mimetype": "text/x-python",
   "name": "python",
   "nbconvert_exporter": "python",
   "pygments_lexer": "ipython3",
   "version": "3.6.3"
  }
 },
 "nbformat": 4,
 "nbformat_minor": 4
}
