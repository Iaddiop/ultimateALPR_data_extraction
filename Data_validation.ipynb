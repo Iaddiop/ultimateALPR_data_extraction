{
 "cells": [
  {
   "cell_type": "markdown",
   "metadata": {
    "editable": true
   },
   "source": [
    "# Data validation"
   ]
  },
  {
   "cell_type": "code",
   "execution_count": 1,
   "metadata": {
    "editable": true
   },
   "outputs": [],
   "source": [
    "# Import librairies\n",
    "import configparser\n",
    "from datetime import datetime\n",
    "import os\n",
    "from pyspark.sql import SparkSession\n",
    "from pyspark.sql.functions import udf, col\n",
    "from pyspark.sql.functions import year, month, dayofmonth, hour, weekofyear, date_format\n",
    "from pyspark.sql import functions as F\n",
    "\n",
    "#os.environ['PYSPARK_SUBMIT_ARGS'] = \"--packages=org.apache.hadoop:hadoop-aws:2.7.3 pyspark-shell\"\n",
    "\n",
    "config = configparser.ConfigParser()\n",
    "config.read_file(open('dl.cfg'))\n",
    "\n",
    "os.environ[\"AWS_ACCESS_KEY_ID\"]= config['AWS']['AWS_ACCESS_KEY_ID']\n",
    "os.environ[\"AWS_SECRET_ACCESS_KEY\"]= config['AWS']['AWS_SECRET_ACCESS_KEY']"
   ]
  },
  {
   "cell_type": "code",
   "execution_count": 2,
   "metadata": {
    "editable": true
   },
   "outputs": [],
   "source": [
    "# Create spark session\n",
    "def create_spark_session():\n",
    "    spark = SparkSession \\\n",
    "        .builder \\\n",
    "        .config(\"spark.jars.packages\", \"org.apache.hadoop:hadoop-aws:2.7.0\") \\\n",
    "        .config(\"spark.hadoop.fs.s3a.impl\",\"org.apache.hadoop.fs.s3a.S3AFileSystem\") \\\n",
    "        .getOrCreate()\n",
    "        \n",
    "        \n",
    "    spark.sparkContext._jsc.hadoopConfiguration().set(\"mapreduce.fileoutputcommitter.algorithm.version\", \"2\")\n",
    "    #spark.sparkContext._jsc.hadoopConfiguration().set(\"fs.s3a.endpoint\", \"s3.eu-west-3.amazonaws.com\")\n",
    "    return spark"
   ]
  },
  {
   "cell_type": "code",
   "execution_count": 3,
   "metadata": {
    "editable": true
   },
   "outputs": [],
   "source": [
    "spark = create_spark_session()"
   ]
  },
  {
   "cell_type": "markdown",
   "metadata": {
    "editable": true
   },
   "source": [
    "### 1 - Read data from lake storage"
   ]
  },
  {
   "cell_type": "code",
   "execution_count": 4,
   "metadata": {
    "editable": true
   },
   "outputs": [],
   "source": [
    "path = \"s3a://lakestorage/\"\n",
    "bodyStyle = spark.read.parquet(path + \"bodyStyle/\")\n",
    "car = spark.read.parquet(path + \"car/\")\n",
    "color = spark.read.parquet(path + \"color/\")\n",
    "country = spark.read.parquet(path + \"country/\")\n",
    "makeModelYear = spark.read.parquet(path + \"makeModelYear/\")\n",
    "plate = spark.read.parquet(path + \"plate/\")"
   ]
  },
  {
   "cell_type": "markdown",
   "metadata": {
    "editable": true
   },
   "source": [
    "### 2 - Check the data model for each dataset "
   ]
  },
  {
   "cell_type": "code",
   "execution_count": 5,
   "metadata": {
    "editable": true
   },
   "outputs": [],
   "source": [
    "def dataModelCheck(df):\n",
    "    return df.printSchema()"
   ]
  },
  {
   "cell_type": "code",
   "execution_count": 6,
   "metadata": {
    "editable": true
   },
   "outputs": [
    {
     "name": "stdout",
     "output_type": "stream",
     "text": [
      "root\n",
      " |-- bodyStyle_id: long (nullable = true)\n",
      " |-- frame_id: integer (nullable = true)\n",
      " |-- Name: string (nullable = true)\n",
      " |-- Confidence: double (nullable = true)\n",
      " |-- createDateTime: timestamp (nullable = true)\n",
      "\n",
      "root\n",
      " |-- car_id: long (nullable = true)\n",
      " |-- frame_id: integer (nullable = true)\n",
      " |-- color: string (nullable = true)\n",
      " |-- bodyStyle: string (nullable = true)\n",
      " |-- plateText: string (nullable = true)\n",
      " |-- make: string (nullable = true)\n",
      " |-- warpedBoxV1: double (nullable = true)\n",
      " |-- warpedBoxV2: double (nullable = true)\n",
      " |-- warpedBoxV3: double (nullable = true)\n",
      " |-- warpedBoxV4: double (nullable = true)\n",
      " |-- createDateTime: timestamp (nullable = true)\n",
      "\n",
      "root\n",
      " |-- color_id: long (nullable = true)\n",
      " |-- frame_id: integer (nullable = true)\n",
      " |-- Name: string (nullable = true)\n",
      " |-- Confidence: double (nullable = true)\n",
      " |-- createDateTime: timestamp (nullable = true)\n",
      "\n",
      "root\n",
      " |-- country_id: long (nullable = true)\n",
      " |-- frame_id: integer (nullable = true)\n",
      " |-- country: string (nullable = true)\n",
      " |-- countryState: string (nullable = true)\n",
      " |-- countryCode: string (nullable = true)\n",
      " |-- countryConfidence: double (nullable = true)\n",
      " |-- createDateTime: timestamp (nullable = true)\n",
      "\n",
      "root\n",
      " |-- makeModelYear_id: long (nullable = true)\n",
      " |-- frame_id: integer (nullable = true)\n",
      " |-- model: double (nullable = true)\n",
      " |-- make: string (nullable = true)\n",
      " |-- year: string (nullable = true)\n",
      " |-- Confidence: string (nullable = true)\n",
      " |-- createDateTime: timestamp (nullable = true)\n",
      "\n",
      "root\n",
      " |-- plateWarpedBox_id: long (nullable = true)\n",
      " |-- frame_id: integer (nullable = true)\n",
      " |-- countryName: string (nullable = true)\n",
      " |-- plateText: string (nullable = true)\n",
      " |-- warpedBoxV0: double (nullable = true)\n",
      " |-- warpedBoxV1: double (nullable = true)\n",
      " |-- warpedBoxV4: double (nullable = true)\n",
      " |-- warpedBoxV5: double (nullable = true)\n",
      " |-- globalConfidencev1: double (nullable = true)\n",
      " |-- globalConfidencev2: double (nullable = true)\n",
      " |-- createDateTime: timestamp (nullable = true)\n",
      "\n"
     ]
    }
   ],
   "source": [
    "dataModelCheck(bodyStyle)\n",
    "dataModelCheck(car)\n",
    "dataModelCheck(color)\n",
    "dataModelCheck(country)\n",
    "dataModelCheck(makeModelYear)\n",
    "dataModelCheck(plate)"
   ]
  },
  {
   "cell_type": "markdown",
   "metadata": {
    "editable": true
   },
   "source": [
    "### 3 - Check if row exist "
   ]
  },
  {
   "cell_type": "code",
   "execution_count": 7,
   "metadata": {
    "editable": true
   },
   "outputs": [],
   "source": [
    "def rowsExistCheck(df, description):\n",
    "    result = df.count()\n",
    "    if result == 0:\n",
    "        print(\"No records in this file\")\n",
    "    else:\n",
    "        print(f\"There are {result} records in the data set {description}\")\n",
    "    "
   ]
  },
  {
   "cell_type": "code",
   "execution_count": 8,
   "metadata": {
    "editable": true
   },
   "outputs": [
    {
     "name": "stdout",
     "output_type": "stream",
     "text": [
      "There are 266440 records in the data set bodyStyle\n",
      "There are 253282 records in the data set car\n",
      "There are 266440 records in the data set color\n",
      "There are 266440 records in the data set country\n",
      "There are 266440 records in the data set makeModelYear\n",
      "There are 245155 records in the data set plate\n"
     ]
    }
   ],
   "source": [
    "rowsExistCheck(bodyStyle, \"bodyStyle\")\n",
    "rowsExistCheck(car, \"car\")\n",
    "rowsExistCheck(color, \"color\")\n",
    "rowsExistCheck(country, \"country\")\n",
    "rowsExistCheck(makeModelYear, \"makeModelYear\")\n",
    "rowsExistCheck(plate, \"plate\")"
   ]
  },
  {
   "cell_type": "markdown",
   "metadata": {
    "editable": true
   },
   "source": [
    "## 4 - Check the integrity"
   ]
  },
  {
   "cell_type": "code",
   "execution_count": 13,
   "metadata": {
    "editable": true
   },
   "outputs": [],
   "source": [
    "carIntegrity = car.join(bodyStyle, (car.bodyStyle == bodyStyle.Name) & (car.createDateTime == bodyStyle.createDateTime),\"left_anti\") \\\n",
    "                     .count() == 0"
   ]
  },
  {
   "cell_type": "code",
   "execution_count": 14,
   "metadata": {
    "editable": true
   },
   "outputs": [
    {
     "data": {
      "text/plain": [
       "False"
      ]
     },
     "execution_count": 14,
     "metadata": {},
     "output_type": "execute_result"
    }
   ],
   "source": [
    "carIntegrity"
   ]
  },
  {
   "cell_type": "code",
   "execution_count": null,
   "metadata": {
    "editable": true
   },
   "outputs": [],
   "source": []
  }
 ],
 "metadata": {
  "kernelspec": {
   "display_name": "Python 3",
   "language": "python",
   "name": "python3"
  },
  "language_info": {
   "codemirror_mode": {
    "name": "ipython",
    "version": 3
   },
   "file_extension": ".py",
   "mimetype": "text/x-python",
   "name": "python",
   "nbconvert_exporter": "python",
   "pygments_lexer": "ipython3",
   "version": "3.6.3"
  }
 },
 "nbformat": 4,
 "nbformat_minor": 4
}
