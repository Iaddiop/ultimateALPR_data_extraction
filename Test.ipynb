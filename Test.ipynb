{
 "cells": [
  {
   "cell_type": "markdown",
   "metadata": {},
   "source": [
    "# ETL (to test on local with a sample of log files)"
   ]
  },
  {
   "cell_type": "code",
   "execution_count": 1,
   "metadata": {},
   "outputs": [],
   "source": [
    "# Import libraries\n",
    "from pyspark.sql import SparkSession\n",
    "from pyspark.sql.types import StringType, ArrayType,StructType,StructField\n",
    "from pyspark.sql import functions as F"
   ]
  },
  {
   "cell_type": "code",
   "execution_count": 2,
   "metadata": {},
   "outputs": [],
   "source": [
    "def createSparkSession():\n",
    "    \"\"\"\n",
    "    Desccription : initiate sparkSession (configure and create or get application if it exists)\n",
    "    To deal with dataframe\n",
    "    \"\"\"\n",
    "    spark = SparkSession.builder \\\n",
    "        .config(\"spark.jars.packages\", \"org.apache.hadoop:hadoop-aws:2.7.0\") \\\n",
    "        .config(\"spark.hadoop.fs.s3a.impl\",\"org.apache.hadoop.fs.s3a.S3AFileSystem\") \\\n",
    "        .getOrCreate()\n",
    "        \n",
    "    sc = spark.sparkContext\n",
    "    sc._jsc.hadoopConfiguration().set(\"mapreduce.fileoutputcommitter.algorithm.version\", \"2\")\n",
    "\n",
    "    return spark"
   ]
  },
  {
   "cell_type": "code",
   "execution_count": 3,
   "metadata": {},
   "outputs": [],
   "source": [
    "# Load json files\n",
    "spark = createSparkSession()"
   ]
  },
  {
   "cell_type": "code",
   "execution_count": 4,
   "metadata": {},
   "outputs": [],
   "source": [
    "path = \"~/recognizer_logs/*.json\"\n",
    "df = spark.read.json(path, multiLine=True)"
   ]
  },
  {
   "cell_type": "code",
   "execution_count": 6,
   "metadata": {},
   "outputs": [
    {
     "name": "stdout",
     "output_type": "stream",
     "text": [
      "root\n",
      " |-- duration: long (nullable = true)\n",
      " |-- frame_id: long (nullable = true)\n",
      " |-- plates: array (nullable = true)\n",
      " |    |-- element: struct (containsNull = true)\n",
      " |    |    |-- car: struct (nullable = true)\n",
      " |    |    |    |-- bodyStyle: array (nullable = true)\n",
      " |    |    |    |    |-- element: struct (containsNull = true)\n",
      " |    |    |    |    |    |-- confidence: double (nullable = true)\n",
      " |    |    |    |    |    |-- klass: long (nullable = true)\n",
      " |    |    |    |    |    |-- name: string (nullable = true)\n",
      " |    |    |    |-- color: array (nullable = true)\n",
      " |    |    |    |    |-- element: struct (containsNull = true)\n",
      " |    |    |    |    |    |-- confidence: double (nullable = true)\n",
      " |    |    |    |    |    |-- klass: long (nullable = true)\n",
      " |    |    |    |    |    |-- name: string (nullable = true)\n",
      " |    |    |    |-- confidence: double (nullable = true)\n",
      " |    |    |    |-- makeModelYear: array (nullable = true)\n",
      " |    |    |    |    |-- element: struct (containsNull = true)\n",
      " |    |    |    |    |    |-- confidence: double (nullable = true)\n",
      " |    |    |    |    |    |-- klass: long (nullable = true)\n",
      " |    |    |    |    |    |-- make: string (nullable = true)\n",
      " |    |    |    |    |    |-- model: string (nullable = true)\n",
      " |    |    |    |    |    |-- year: string (nullable = true)\n",
      " |    |    |    |-- warpedBox: array (nullable = true)\n",
      " |    |    |    |    |-- element: double (containsNull = true)\n",
      " |    |    |-- confidences: array (nullable = true)\n",
      " |    |    |    |-- element: double (containsNull = true)\n",
      " |    |    |-- country: array (nullable = true)\n",
      " |    |    |    |-- element: struct (containsNull = true)\n",
      " |    |    |    |    |-- code: string (nullable = true)\n",
      " |    |    |    |    |-- confidence: double (nullable = true)\n",
      " |    |    |    |    |-- klass: long (nullable = true)\n",
      " |    |    |    |    |-- name: string (nullable = true)\n",
      " |    |    |    |    |-- state: string (nullable = true)\n",
      " |    |    |-- text: string (nullable = true)\n",
      " |    |    |-- warpedBox: array (nullable = true)\n",
      " |    |    |    |-- element: double (containsNull = true)\n",
      " |-- timestamp: string (nullable = true)\n",
      "\n"
     ]
    }
   ],
   "source": [
    "df.printSchema()"
   ]
  },
  {
   "cell_type": "markdown",
   "metadata": {},
   "source": [
    "### Explode structure and select frame id, plates and timestamp"
   ]
  },
  {
   "cell_type": "code",
   "execution_count": null,
   "metadata": {},
   "outputs": [],
   "source": [
    "# explode in level 1\n",
    "explodeDFL1 = df.select(F.col(\"frame_id\"),\\\n",
    "                        F.explode(\"plates\").alias(\"plate\"),\\\n",
    "                       F.col(\"timestamp\").alias(\"timestamp\"))\n",
    "#print schema\n",
    "explodeDFL1.printSchema()"
   ]
  },
  {
   "cell_type": "markdown",
   "metadata": {},
   "source": [
    "## I - Car caracterisques"
   ]
  },
  {
   "cell_type": "markdown",
   "metadata": {},
   "source": [
    "### Create bodyStyle table"
   ]
  },
  {
   "cell_type": "code",
   "execution_count": null,
   "metadata": {},
   "outputs": [],
   "source": [
    "bodyStyleFields = [\"frame_id\", \"bodyStyle.name\", \"bodyStyle.confidence\", \"timestamp\"]\n",
    "bodyStyleFieldsName = [\"frameID\", \"bodyStyleName\", \"bodyStyleConfidence\", \"createDate\"]\n",
    "\n",
    "bodyStyleDF = explodeDFL1.select(F.col(\"frame_id\"),\\\n",
    "                                F.col(\"plate.car.bodyStyle\")[0].alias(\"bodyStyle\"),\\\n",
    "                                F.col(\"timestamp\"))\n",
    "\n",
    "bodyStyleTable = bodyStyleDF.select(*bodyStyleFields).toDF(*bodyStyleFieldsName)\n",
    "bodyStyleTable.show()"
   ]
  },
  {
   "cell_type": "markdown",
   "metadata": {},
   "source": [
    "### Create color table"
   ]
  },
  {
   "cell_type": "code",
   "execution_count": null,
   "metadata": {},
   "outputs": [],
   "source": [
    "colorFields = [\"frame_id\", \"color.name\", \"color.confidence\", \"timestamp\"]\n",
    "colorFieldsName = [\"frameID\", \"colorName\", \"colorConfidence\", \"createDate\"]\n",
    "colorDF = explodeDFL1.select(F.col(\"frame_id\"),\\\n",
    "                             F.col(\"plate.car.color\")[0].alias(\"color\"),\\\n",
    "                             F.col(\"timestamp\"))\n",
    "\n",
    "# Create color table:\n",
    "colorTable = colorDF.select(*colorFields).toDF(*colorFieldsName)\n",
    "colorTable.show()"
   ]
  },
  {
   "cell_type": "markdown",
   "metadata": {},
   "source": [
    "### Create makeModelYear table"
   ]
  },
  {
   "cell_type": "code",
   "execution_count": null,
   "metadata": {},
   "outputs": [],
   "source": [
    "makeModelYearFields = [\"frame_id\", \"makeModelYear.model\", \"makeModelYear.confidence\", \"makeModelYear.make\",\n",
    "                       \"makeModelYear.year\", \"timestamp\"]\n",
    "cmakeModelYearFieldsName = [\"frameID\", \"model\", \"makeModelConfidence\", \"make\",\"year\", \"createDate\"]\n",
    "\n",
    "makeModelYearDF = explodeDFL1.select(F.col(\"frame_id\"),\\\n",
    "                             F.col(\"plate.car.makeModelYear\")[0].alias(\"makeModelYear\"),\\\n",
    "                             F.col(\"timestamp\"))\n",
    "\n",
    "# Create color table:\n",
    "makeModelYearTable = makeModelYearDF.select(*makeModelYearFields).toDF(*cmakeModelYearFieldsName)\n",
    "makeModelYearTable.show()"
   ]
  },
  {
   "cell_type": "markdown",
   "metadata": {},
   "source": [
    "### Create WarpedBox table"
   ]
  },
  {
   "cell_type": "code",
   "execution_count": null,
   "metadata": {},
   "outputs": [],
   "source": [
    "warpedBoxCarFields = [\"frame_id\", F.col(\"plate.car.warpedBox\")[0], F.col(\"plate.car.warpedBox\")[1], \n",
    "                      F.col(\"plate.car.warpedBox\")[4], F.col(\"plate.car.warpedBox\")[5], \"timestamp\"]\n",
    "warpedBoxCarFieldsName = [\"frameID\", \"warpedBoxV1\", \"warpedBoxV2\", \"warpedBoxV3\",\"warpedBoxV4\", \"createDate\"]\n",
    "\n",
    "warpedBoxCarDF = explodeDFL1.select(*warpedBoxCarFields).toDF(*warpedBoxCarFieldsName)\n",
    "warpedBoxCarDF.show()"
   ]
  },
  {
   "cell_type": "markdown",
   "metadata": {},
   "source": [
    "### Create car transactional table"
   ]
  },
  {
   "cell_type": "code",
   "execution_count": null,
   "metadata": {},
   "outputs": [],
   "source": [
    "carDF = explodeDFL1.select(F.col(\"frame_id\"),\\\n",
    "                          F.col(\"plate.car.confidence\").alias(\"globalConfidence\"),\\\n",
    "                          F.col(\"timestamp\").alias(\"createDate\"))\n",
    "carDF.show()"
   ]
  },
  {
   "cell_type": "markdown",
   "metadata": {},
   "source": [
    "## II - plate caracterisques"
   ]
  },
  {
   "cell_type": "markdown",
   "metadata": {},
   "source": [
    "### Create country table"
   ]
  },
  {
   "cell_type": "code",
   "execution_count": null,
   "metadata": {},
   "outputs": [],
   "source": [
    "countryFields = [\"frame_id\", \"plateCountry.name\", \"plateCountry.state\", \"plateCountry.code\", \n",
    "                 \"plateCountry.confidence\",\"timestamp\"]\n",
    "\n",
    "countryFieldsName = [\"frameID\", \"country\", \"countryState\", \"countryCode\",\"countryConfidence\", \"createDate\"]\n",
    "\n",
    "countryDF = explodeDFL1.select(F.col(\"frame_id\"),\\\n",
    "                             F.col(\"plate.country\")[0].alias(\"plateCountry\"),\\\n",
    "                             F.col(\"timestamp\"))\n",
    "\n",
    "# Create color table:\n",
    "countryTable = countryDF.select(*countryFields).toDF(*countryFieldsName)\n",
    "countryTable.show()"
   ]
  },
  {
   "cell_type": "markdown",
   "metadata": {},
   "source": [
    "### Create warpedBox plate table"
   ]
  },
  {
   "cell_type": "code",
   "execution_count": null,
   "metadata": {},
   "outputs": [],
   "source": [
    "warpedBoxPlateFields = [\"frame_id\", \"plate.text\", F.col(\"plate.warpedBox\")[0],F.col(\"plate.warpedBox\")[1],\n",
    "                        F.col(\"plate.warpedBox\")[4], F.col(\"plate.warpedBox\")[5], \"timestamp\"]\n",
    "warpedBoxPlateFieldsName = [\"frameID\", \"pateText\", \"warpedBoxV0\", \"warpedBoxV1\", \"warpedBoxV4\",\"warpedBoxV5\"\n",
    "                            , \"createDate\"]\n",
    "\n",
    "warpedBoxPlateDF = explodeDFL1.select(*warpedBoxPlateFields).toDF(*warpedBoxPlateFieldsName)\n",
    "warpedBoxPlateDF.show()"
   ]
  },
  {
   "cell_type": "markdown",
   "metadata": {},
   "source": [
    "### Create plate transactional table"
   ]
  },
  {
   "cell_type": "code",
   "execution_count": null,
   "metadata": {},
   "outputs": [],
   "source": [
    "plateFields = [\"frame_id\", \"plate.text\", F.col(\"plate.confidences\")[1], F.col(\"plate.confidences\")[2],\"timestamp\"]\n",
    "plateFieldsName = [\"frame_id\", \"plateText\", \"plateConfidenceV1\", \"plateConfidenceV2\",\"createDate\"]\n",
    "\n",
    "plateDF = explodeDFL1.select(*plateFields).toDF(*plateFieldsName)\n",
    "\n",
    "plateDF.show()"
   ]
  },
  {
   "cell_type": "code",
   "execution_count": null,
   "metadata": {},
   "outputs": [],
   "source": []
  }
 ],
 "metadata": {
  "kernelspec": {
   "display_name": "Python 3",
   "language": "python",
   "name": "python3"
  },
  "language_info": {
   "codemirror_mode": {
    "name": "ipython",
    "version": 3
   },
   "file_extension": ".py",
   "mimetype": "text/x-python",
   "name": "python",
   "nbconvert_exporter": "python",
   "pygments_lexer": "ipython3",
   "version": "3.8.10"
  }
 },
 "nbformat": 4,
 "nbformat_minor": 4
}
